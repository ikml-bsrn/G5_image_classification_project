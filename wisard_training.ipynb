{
 "cells": [
  {
   "cell_type": "code",
   "execution_count": 1,
   "metadata": {},
   "outputs": [
    {
     "name": "stdout",
     "output_type": "stream",
     "text": [
      "Defaulting to user installation because normal site-packages is not writeable\n",
      "Requirement already satisfied: ultralytics in /Users/ikmalbasirun/Library/Python/3.9/lib/python/site-packages (8.3.91)\n",
      "Requirement already satisfied: numpy<=2.1.1,>=1.23.0 in /Users/ikmalbasirun/Library/Python/3.9/lib/python/site-packages (from ultralytics) (2.0.2)\n",
      "Requirement already satisfied: matplotlib>=3.3.0 in /Users/ikmalbasirun/Library/Python/3.9/lib/python/site-packages (from ultralytics) (3.9.4)\n",
      "Requirement already satisfied: opencv-python>=4.6.0 in /Users/ikmalbasirun/Library/Python/3.9/lib/python/site-packages (from ultralytics) (4.11.0.86)\n",
      "Requirement already satisfied: pillow>=7.1.2 in /Users/ikmalbasirun/Library/Python/3.9/lib/python/site-packages (from ultralytics) (11.1.0)\n",
      "Requirement already satisfied: pyyaml>=5.3.1 in /Users/ikmalbasirun/Library/Python/3.9/lib/python/site-packages (from ultralytics) (6.0.2)\n",
      "Requirement already satisfied: requests>=2.23.0 in /Users/ikmalbasirun/Library/Python/3.9/lib/python/site-packages (from ultralytics) (2.32.3)\n",
      "Requirement already satisfied: scipy>=1.4.1 in /Users/ikmalbasirun/Library/Python/3.9/lib/python/site-packages (from ultralytics) (1.13.1)\n",
      "Requirement already satisfied: torch>=1.8.0 in /Users/ikmalbasirun/Library/Python/3.9/lib/python/site-packages (from ultralytics) (2.6.0)\n",
      "Requirement already satisfied: torchvision>=0.9.0 in /Users/ikmalbasirun/Library/Python/3.9/lib/python/site-packages (from ultralytics) (0.21.0)\n",
      "Requirement already satisfied: tqdm>=4.64.0 in /Users/ikmalbasirun/Library/Python/3.9/lib/python/site-packages (from ultralytics) (4.67.1)\n",
      "Requirement already satisfied: psutil in /Users/ikmalbasirun/Library/Python/3.9/lib/python/site-packages (from ultralytics) (6.1.1)\n",
      "Requirement already satisfied: py-cpuinfo in /Users/ikmalbasirun/Library/Python/3.9/lib/python/site-packages (from ultralytics) (9.0.0)\n",
      "Requirement already satisfied: pandas>=1.1.4 in /Users/ikmalbasirun/Library/Python/3.9/lib/python/site-packages (from ultralytics) (2.2.3)\n",
      "Requirement already satisfied: seaborn>=0.11.0 in /Users/ikmalbasirun/Library/Python/3.9/lib/python/site-packages (from ultralytics) (0.13.2)\n",
      "Requirement already satisfied: ultralytics-thop>=2.0.0 in /Users/ikmalbasirun/Library/Python/3.9/lib/python/site-packages (from ultralytics) (2.0.14)\n",
      "Requirement already satisfied: contourpy>=1.0.1 in /Users/ikmalbasirun/Library/Python/3.9/lib/python/site-packages (from matplotlib>=3.3.0->ultralytics) (1.3.0)\n",
      "Requirement already satisfied: cycler>=0.10 in /Users/ikmalbasirun/Library/Python/3.9/lib/python/site-packages (from matplotlib>=3.3.0->ultralytics) (0.12.1)\n",
      "Requirement already satisfied: fonttools>=4.22.0 in /Users/ikmalbasirun/Library/Python/3.9/lib/python/site-packages (from matplotlib>=3.3.0->ultralytics) (4.56.0)\n",
      "Requirement already satisfied: kiwisolver>=1.3.1 in /Users/ikmalbasirun/Library/Python/3.9/lib/python/site-packages (from matplotlib>=3.3.0->ultralytics) (1.4.7)\n",
      "Requirement already satisfied: packaging>=20.0 in /Users/ikmalbasirun/Library/Python/3.9/lib/python/site-packages (from matplotlib>=3.3.0->ultralytics) (24.2)\n",
      "Requirement already satisfied: pyparsing>=2.3.1 in /Users/ikmalbasirun/Library/Python/3.9/lib/python/site-packages (from matplotlib>=3.3.0->ultralytics) (3.2.1)\n",
      "Requirement already satisfied: python-dateutil>=2.7 in /Users/ikmalbasirun/Library/Python/3.9/lib/python/site-packages (from matplotlib>=3.3.0->ultralytics) (2.9.0.post0)\n",
      "Requirement already satisfied: importlib-resources>=3.2.0 in /Users/ikmalbasirun/Library/Python/3.9/lib/python/site-packages (from matplotlib>=3.3.0->ultralytics) (6.5.2)\n",
      "Requirement already satisfied: pytz>=2020.1 in /Users/ikmalbasirun/Library/Python/3.9/lib/python/site-packages (from pandas>=1.1.4->ultralytics) (2025.1)\n",
      "Requirement already satisfied: tzdata>=2022.7 in /Users/ikmalbasirun/Library/Python/3.9/lib/python/site-packages (from pandas>=1.1.4->ultralytics) (2025.1)\n",
      "Requirement already satisfied: charset-normalizer<4,>=2 in /Users/ikmalbasirun/Library/Python/3.9/lib/python/site-packages (from requests>=2.23.0->ultralytics) (3.4.1)\n",
      "Requirement already satisfied: idna<4,>=2.5 in /Users/ikmalbasirun/Library/Python/3.9/lib/python/site-packages (from requests>=2.23.0->ultralytics) (3.10)\n",
      "Requirement already satisfied: urllib3<3,>=1.21.1 in /Users/ikmalbasirun/Library/Python/3.9/lib/python/site-packages (from requests>=2.23.0->ultralytics) (2.3.0)\n",
      "Requirement already satisfied: certifi>=2017.4.17 in /Users/ikmalbasirun/Library/Python/3.9/lib/python/site-packages (from requests>=2.23.0->ultralytics) (2025.1.31)\n",
      "Requirement already satisfied: filelock in /Users/ikmalbasirun/Library/Python/3.9/lib/python/site-packages (from torch>=1.8.0->ultralytics) (3.18.0)\n",
      "Requirement already satisfied: typing-extensions>=4.10.0 in /Users/ikmalbasirun/Library/Python/3.9/lib/python/site-packages (from torch>=1.8.0->ultralytics) (4.12.2)\n",
      "Requirement already satisfied: networkx in /Users/ikmalbasirun/Library/Python/3.9/lib/python/site-packages (from torch>=1.8.0->ultralytics) (3.2.1)\n",
      "Requirement already satisfied: jinja2 in /Users/ikmalbasirun/Library/Python/3.9/lib/python/site-packages (from torch>=1.8.0->ultralytics) (3.1.6)\n",
      "Requirement already satisfied: fsspec in /Users/ikmalbasirun/Library/Python/3.9/lib/python/site-packages (from torch>=1.8.0->ultralytics) (2025.3.0)\n",
      "Requirement already satisfied: sympy==1.13.1 in /Users/ikmalbasirun/Library/Python/3.9/lib/python/site-packages (from torch>=1.8.0->ultralytics) (1.13.1)\n",
      "Requirement already satisfied: mpmath<1.4,>=1.1.0 in /Users/ikmalbasirun/Library/Python/3.9/lib/python/site-packages (from sympy==1.13.1->torch>=1.8.0->ultralytics) (1.3.0)\n",
      "Requirement already satisfied: zipp>=3.1.0 in /Users/ikmalbasirun/Library/Python/3.9/lib/python/site-packages (from importlib-resources>=3.2.0->matplotlib>=3.3.0->ultralytics) (3.21.0)\n",
      "Requirement already satisfied: six>=1.5 in /Library/Developer/CommandLineTools/Library/Frameworks/Python3.framework/Versions/3.9/lib/python3.9/site-packages (from python-dateutil>=2.7->matplotlib>=3.3.0->ultralytics) (1.15.0)\n",
      "Requirement already satisfied: MarkupSafe>=2.0 in /Users/ikmalbasirun/Library/Python/3.9/lib/python/site-packages (from jinja2->torch>=1.8.0->ultralytics) (3.0.2)\n",
      "\n",
      "\u001b[1m[\u001b[0m\u001b[34;49mnotice\u001b[0m\u001b[1;39;49m]\u001b[0m\u001b[39;49m A new release of pip is available: \u001b[0m\u001b[31;49m25.0.1\u001b[0m\u001b[39;49m -> \u001b[0m\u001b[32;49m25.1\u001b[0m\n",
      "\u001b[1m[\u001b[0m\u001b[34;49mnotice\u001b[0m\u001b[1;39;49m]\u001b[0m\u001b[39;49m To update, run: \u001b[0m\u001b[32;49m/Library/Developer/CommandLineTools/usr/bin/python3 -m pip install --upgrade pip\u001b[0m\n",
      "Note: you may need to restart the kernel to use updated packages.\n",
      "Defaulting to user installation because normal site-packages is not writeable\n",
      "Requirement already satisfied: torch in /Users/ikmalbasirun/Library/Python/3.9/lib/python/site-packages (2.6.0)\n",
      "Requirement already satisfied: torchvision in /Users/ikmalbasirun/Library/Python/3.9/lib/python/site-packages (0.21.0)\n",
      "Requirement already satisfied: torchaudio in /Users/ikmalbasirun/Library/Python/3.9/lib/python/site-packages (2.6.0)\n",
      "Requirement already satisfied: filelock in /Users/ikmalbasirun/Library/Python/3.9/lib/python/site-packages (from torch) (3.18.0)\n",
      "Requirement already satisfied: typing-extensions>=4.10.0 in /Users/ikmalbasirun/Library/Python/3.9/lib/python/site-packages (from torch) (4.12.2)\n",
      "Requirement already satisfied: networkx in /Users/ikmalbasirun/Library/Python/3.9/lib/python/site-packages (from torch) (3.2.1)\n",
      "Requirement already satisfied: jinja2 in /Users/ikmalbasirun/Library/Python/3.9/lib/python/site-packages (from torch) (3.1.6)\n",
      "Requirement already satisfied: fsspec in /Users/ikmalbasirun/Library/Python/3.9/lib/python/site-packages (from torch) (2025.3.0)\n",
      "Requirement already satisfied: sympy==1.13.1 in /Users/ikmalbasirun/Library/Python/3.9/lib/python/site-packages (from torch) (1.13.1)\n",
      "Requirement already satisfied: mpmath<1.4,>=1.1.0 in /Users/ikmalbasirun/Library/Python/3.9/lib/python/site-packages (from sympy==1.13.1->torch) (1.3.0)\n",
      "Requirement already satisfied: numpy in /Users/ikmalbasirun/Library/Python/3.9/lib/python/site-packages (from torchvision) (2.0.2)\n",
      "Requirement already satisfied: pillow!=8.3.*,>=5.3.0 in /Users/ikmalbasirun/Library/Python/3.9/lib/python/site-packages (from torchvision) (11.1.0)\n",
      "Requirement already satisfied: MarkupSafe>=2.0 in /Users/ikmalbasirun/Library/Python/3.9/lib/python/site-packages (from jinja2->torch) (3.0.2)\n",
      "\n",
      "\u001b[1m[\u001b[0m\u001b[34;49mnotice\u001b[0m\u001b[1;39;49m]\u001b[0m\u001b[39;49m A new release of pip is available: \u001b[0m\u001b[31;49m25.0.1\u001b[0m\u001b[39;49m -> \u001b[0m\u001b[32;49m25.1\u001b[0m\n",
      "\u001b[1m[\u001b[0m\u001b[34;49mnotice\u001b[0m\u001b[1;39;49m]\u001b[0m\u001b[39;49m To update, run: \u001b[0m\u001b[32;49m/Library/Developer/CommandLineTools/usr/bin/python3 -m pip install --upgrade pip\u001b[0m\n",
      "Note: you may need to restart the kernel to use updated packages.\n"
     ]
    },
    {
     "name": "stderr",
     "output_type": "stream",
     "text": [
      "/Users/ikmalbasirun/Library/Python/3.9/lib/python/site-packages/urllib3/__init__.py:35: NotOpenSSLWarning: urllib3 v2 only supports OpenSSL 1.1.1+, currently the 'ssl' module is compiled with 'LibreSSL 2.8.3'. See: https://github.com/urllib3/urllib3/issues/3020\n",
      "  warnings.warn(\n"
     ]
    }
   ],
   "source": [
    "%pip install ultralytics\n",
    "%pip install torch torchvision torchaudio\n",
    "\n",
    "from ultralytics import YOLO\n",
    "import torch"
   ]
  },
  {
   "cell_type": "code",
   "execution_count": null,
   "metadata": {},
   "outputs": [],
   "source": [
    "modelv5 = YOLO(\"yolov5nu.pt\")\n",
    "modelv8 = YOLO(\"yolov8n.pt\")\n",
    "modelv11 = YOLO(\"yolo11n.pt\")"
   ]
  },
  {
   "cell_type": "code",
   "execution_count": null,
   "metadata": {},
   "outputs": [],
   "source": [
    "#using MPS instead of CPU\n",
    "device = \"mps\" if torch.backends.mps.is_available() else \"cpu\""
   ]
  },
  {
   "cell_type": "markdown",
   "metadata": {},
   "source": [
    "# YOLOv5"
   ]
  },
  {
   "cell_type": "markdown",
   "metadata": {},
   "source": [
    "## Thermal"
   ]
  },
  {
   "cell_type": "code",
   "execution_count": null,
   "metadata": {},
   "outputs": [],
   "source": [
    "modelv5.train(\n",
    "    data='wisard_dataset_thermal.yaml',\n",
    "    epochs=30,\n",
    "    lr0=0.0001, # depends on tuning\n",
    "    batch=8, # depends on tuning\n",
    "    imgsz=640,\n",
    "    device=\"mps\",\n",
    "    project=\"runs/v5_thermal\"\n",
    ")"
   ]
  },
  {
   "cell_type": "markdown",
   "metadata": {},
   "source": [
    "## RGB"
   ]
  },
  {
   "cell_type": "code",
   "execution_count": null,
   "metadata": {},
   "outputs": [],
   "source": [
    "modelv5.train(\n",
    "    data='wisard_dataset_rgb.yaml',\n",
    "    epochs=30,\n",
    "    lr0=0.0001, # depends on tuning\n",
    "    batch=8, # depends on tuning\n",
    "    imgsz=640,\n",
    "    device=\"mps\",\n",
    "    project=\"runs/v5_rgb\"\n",
    ")"
   ]
  },
  {
   "cell_type": "markdown",
   "metadata": {},
   "source": [
    "# YOLOv8"
   ]
  },
  {
   "cell_type": "markdown",
   "metadata": {},
   "source": [
    "## Thermal"
   ]
  },
  {
   "cell_type": "code",
   "execution_count": null,
   "metadata": {},
   "outputs": [],
   "source": [
    "modelv8.train(\n",
    "    data='wisard_dataset_thermal.yaml',\n",
    "    epochs=30,\n",
    "    lr0=0.0001, # depends on tuning\n",
    "    batch=8, # depends on tuning\n",
    "    imgsz=640,\n",
    "    device=\"mps\",\n",
    "    project=\"runs/v8_thermal\"\n",
    ")"
   ]
  },
  {
   "cell_type": "markdown",
   "metadata": {},
   "source": [
    "## RGB"
   ]
  },
  {
   "cell_type": "code",
   "execution_count": null,
   "metadata": {},
   "outputs": [],
   "source": [
    "modelv8.train(\n",
    "    data='wisard_dataset_rgb.yaml',\n",
    "    epochs=30,\n",
    "    lr0=0.0001, # depends on tuning\n",
    "    batch=8, # depends on tuning\n",
    "    imgsz=640,\n",
    "    device=\"mps\",\n",
    "    project=\"runs/v8_rgb\"\n",
    ")"
   ]
  },
  {
   "cell_type": "markdown",
   "metadata": {},
   "source": [
    "# YOLOv11"
   ]
  },
  {
   "cell_type": "markdown",
   "metadata": {},
   "source": [
    "## Thermal"
   ]
  },
  {
   "cell_type": "code",
   "execution_count": null,
   "metadata": {},
   "outputs": [],
   "source": [
    "modelv11.train(\n",
    "    data='wisard_dataset_thermal.yaml',\n",
    "    epochs=30,\n",
    "    lr0=0.0001, # depends on tuning\n",
    "    batch=8, # depends on tuning\n",
    "    imgsz=640,\n",
    "    device=\"mps\",\n",
    "    project=\"runs/v11_thermal\"\n",
    ")"
   ]
  },
  {
   "cell_type": "markdown",
   "metadata": {},
   "source": [
    "## RGB"
   ]
  },
  {
   "cell_type": "code",
   "execution_count": null,
   "metadata": {},
   "outputs": [],
   "source": [
    "modelv8.train(\n",
    "    data='wisard_dataset_rgb.yaml',\n",
    "    epochs=30,\n",
    "    lr0=0.0001, # depends on tuning\n",
    "    batch=8, # depends on tuning\n",
    "    imgsz=640,\n",
    "    device=\"mps\",\n",
    "    project=\"runs/v11_rgb\"\n",
    ")"
   ]
  }
 ],
 "metadata": {
  "kernelspec": {
   "display_name": "Python 3",
   "language": "python",
   "name": "python3"
  },
  "language_info": {
   "codemirror_mode": {
    "name": "ipython",
    "version": 3
   },
   "file_extension": ".py",
   "mimetype": "text/x-python",
   "name": "python",
   "nbconvert_exporter": "python",
   "pygments_lexer": "ipython3",
   "version": "3.9.6"
  }
 },
 "nbformat": 4,
 "nbformat_minor": 2
}
