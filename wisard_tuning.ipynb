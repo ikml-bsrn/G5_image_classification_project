{
 "cells": [
  {
   "cell_type": "code",
   "execution_count": null,
   "metadata": {},
   "outputs": [],
   "source": [
    "%pip install ultralytics\n",
    "ß\n",
    "from ultralytics import YOLO"
   ]
  },
  {
   "cell_type": "code",
   "execution_count": null,
   "metadata": {},
   "outputs": [],
   "source": [
    "# Load the models\n",
    "modelv5_tuning = YOLO(\"yolov5nu.pt\")   # these first three models are for hyperparameter tuning\n",
    "modelv8_tuning = YOLO(\"yolov8n.pt\")\n",
    "modelv11_tuning = YOLO(\"yolo11n.pt\")"
   ]
  },
  {
   "cell_type": "markdown",
   "metadata": {},
   "source": [
    "# Tuning"
   ]
  },
  {
   "cell_type": "code",
   "execution_count": null,
   "metadata": {},
   "outputs": [],
   "source": [
    "import random\n",
    "\n",
    "search_space = {\n",
    "    \"lr0\": (1e-5,1e-4,1e-3,1e-2,1e-1),\n",
    "    \"batch\": [4,6,8,10,12,14,16,18,20]\n",
    "}\n",
    "\n",
    "#Save the hyperparameter values used in the tuning\n",
    "lr0_dict = {}\n",
    "batch_dict = {}\n",
    "\n",
    "for i in range(15):\n",
    "  lr0 = search_space[\"lr0\"][random.randint(0,4)]\n",
    "  batch = search_space[\"batch\"][random.randint(0,8)]\n",
    "\n",
    "  lr0_dict[i] = lr0\n",
    "  batch_dict[i] = batch\n",
    "\n",
    "  modelv5_tuning.train(\n",
    "    data='wisard_dataset_rgb.yaml', #state whether it's RGB or THERMAL \n",
    "    epochs=5,\n",
    "    imgsz=640,\n",
    "    project='runs/v5_RGB', # change runs/VERSION_MODALITY\n",
    "    batch=batch,\n",
    "    lr0=lr0,\n",
    "    optimizer = 'SGD',\n",
    "    device='mps', # mpu is for MAC, change to 'auto' or remove this if you're using Windows\n",
    "    workers=4\n",
    "  )\n"
   ]
  },
  {
   "cell_type": "markdown",
   "metadata": {},
   "source": [
    "# Tuning Results"
   ]
  },
  {
   "cell_type": "code",
   "execution_count": null,
   "metadata": {},
   "outputs": [],
   "source": [
    "import pandas as pd\n",
    "\n",
    "result_paths = [\"train4\",\"train42\",\"train422\",\"train4222\",\"train42222\"] #state all output folders from training done during tuning\n",
    "\n",
    "results_df = pd.DataFrame()\n",
    "\n",
    "for i, path in enumerate(result_paths): #accesses the results.csv file from each output folders\n",
    "  # Path to the results.csv file from tuning\n",
    "  results_path = f'runs/v5_RGB/{path}/results.csv' #change the folder version and modality according to what you've tuned\n",
    "\n",
    "  # Load results\n",
    "  df = pd.read_csv(results_path)\n",
    "\n",
    "  #Obtain the saved hyperparameter values during tuning process\n",
    "  df['lr0'] = lr0_dict[i]\n",
    "  df['batch'] = batch_dict[i]\n",
    "\n",
    "  #Concat to results_df\n",
    "  df['run_name'] = path  # Track which run it came from\n",
    "  results_df = pd.concat([results_df, df], ignore_index=True)\n",
    "\n",
    "\n",
    "# Sort by recall (metrics/recall(B))\n",
    "results_df_sorted = results_df.sort_values(by='metrics/recall(B)', ascending=False) #changed metrics to recall"
   ]
  },
  {
   "cell_type": "code",
   "execution_count": null,
   "metadata": {},
   "outputs": [],
   "source": [
    "results_df_sorted.head(10)"
   ]
  }
 ],
 "metadata": {
  "language_info": {
   "name": "python"
  }
 },
 "nbformat": 4,
 "nbformat_minor": 2
}
